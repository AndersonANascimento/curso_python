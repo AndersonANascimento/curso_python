{
 "cells": [
  {
   "cell_type": "code",
   "execution_count": 1,
   "metadata": {
    "collapsed": false
   },
   "outputs": [
    {
     "name": "stdout",
     "output_type": "stream",
     "text": [
      "maria 10 1.73\n",
      "<class 'str'> <class 'int'> <class 'float'>\n"
     ]
    }
   ],
   "source": [
    "# _*_ coding: UTF-8 _*_\n",
    "\n",
    "idade = 10\n",
    "nome = \"maria\"\n",
    "altura = 1.73\n",
    "print(nome, idade, altura)\n",
    "print(type(nome), type(idade), type(altura))"
   ]
  },
  {
   "cell_type": "code",
   "execution_count": 2,
   "metadata": {
    "collapsed": false
   },
   "outputs": [
    {
     "name": "stdout",
     "output_type": "stream",
     "text": [
      "3 3.3333333333333335 3.3333333333333335\n"
     ]
    }
   ],
   "source": [
    "print(int(3.1415), 10/3, 10.0/3)"
   ]
  },
  {
   "cell_type": "code",
   "execution_count": 3,
   "metadata": {
    "collapsed": false
   },
   "outputs": [
    {
     "name": "stdout",
     "output_type": "stream",
     "text": [
      "len(filme) 14 filme[5] a filme[2:5] cas\n"
     ]
    }
   ],
   "source": [
    "filme = \"A casa do lago\"\n",
    "print(\"len(filme)\", len(filme), \"filme[5]\" , filme[5], \"filme[2:5]\" , filme[2:5])"
   ]
  },
  {
   "cell_type": "code",
   "execution_count": 4,
   "metadata": {
    "collapsed": false
   },
   "outputs": [
    {
     "name": "stdout",
     "output_type": "stream",
     "text": [
      "filme[2:] casa do lago  == filme[-5:]  lago\n"
     ]
    }
   ],
   "source": [
    "print(\"filme[2:]\", filme[2:], \" == filme[-5:]\", filme[-5:])"
   ]
  },
  {
   "cell_type": "code",
   "execution_count": 5,
   "metadata": {
    "collapsed": false
   },
   "outputs": [
    {
     "name": "stdout",
     "output_type": "stream",
     "text": [
      "4 ['do', 'lago']\n",
      "['do', 'lago']\n",
      "A casa do lagoA casa do lago\n",
      "A casa do lagoA casa do lagoA casa do lago\n"
     ]
    }
   ],
   "source": [
    "palavras = filme.split(\" \")\n",
    "print(len(palavras), palavras[-2:])\n",
    "print(filme.split(\" \")[-2:])\n",
    "\n",
    "print(filme + filme)\n",
    "print(filme * 3)"
   ]
  },
  {
   "cell_type": "code",
   "execution_count": 6,
   "metadata": {
    "collapsed": false
   },
   "outputs": [
    {
     "name": "stdout",
     "output_type": "stream",
     "text": [
      "Crianca\n",
      "crianca\n"
     ]
    }
   ],
   "source": [
    "idade = int(input(\"Informe a idade:\"))\n",
    "if idade < 18:\n",
    "    print('Crianca')\n",
    "elif idade >= 60:\n",
    "    print('idoso')\n",
    "else:\n",
    "    print('adulto')\n",
    "\n",
    "print('adulto' if idade >=18 else 'crianca')"
   ]
  },
  {
   "cell_type": "code",
   "execution_count": 7,
   "metadata": {
    "collapsed": false
   },
   "outputs": [
    {
     "name": "stdout",
     "output_type": "stream",
     "text": [
      "1\n",
      "2\n",
      "3\n",
      "4\n",
      "5\n"
     ]
    }
   ],
   "source": [
    "for i in [1,2,3,4,5]:\n",
    "    print(i)"
   ]
  },
  {
   "cell_type": "code",
   "execution_count": 8,
   "metadata": {
    "collapsed": false
   },
   "outputs": [
    {
     "name": "stdout",
     "output_type": "stream",
     "text": [
      "0\n",
      "1\n",
      "2\n",
      "3\n",
      "4\n"
     ]
    }
   ],
   "source": [
    "for i in range(5):\n",
    "    print(i)"
   ]
  },
  {
   "cell_type": "code",
   "execution_count": 9,
   "metadata": {
    "collapsed": false
   },
   "outputs": [
    {
     "name": "stdout",
     "output_type": "stream",
     "text": [
      "3\n",
      "4\n"
     ]
    }
   ],
   "source": [
    "for i in range(3, 5):\n",
    "    print(i)"
   ]
  },
  {
   "cell_type": "code",
   "execution_count": 10,
   "metadata": {
    "collapsed": false
   },
   "outputs": [
    {
     "name": "stdout",
     "output_type": "stream",
     "text": [
      "0\n",
      "2\n",
      "4\n",
      "6\n",
      "8\n"
     ]
    }
   ],
   "source": [
    "for i in range(0,10, 2):\n",
    "    print(i)"
   ]
  },
  {
   "cell_type": "code",
   "execution_count": 11,
   "metadata": {
    "collapsed": false
   },
   "outputs": [
    {
     "name": "stdout",
     "output_type": "stream",
     "text": [
      "A casa do lago\n",
      "A cas\n",
      "AA\n",
      "  \n",
      "cc\n",
      "aa\n",
      "ss\n"
     ]
    }
   ],
   "source": [
    "print(filme)\n",
    "print(filme[:5])\n",
    "for letra in filme[:5]:\n",
    "    print(letra*2)"
   ]
  },
  {
   "cell_type": "code",
   "execution_count": 12,
   "metadata": {
    "collapsed": false
   },
   "outputs": [
    {
     "name": "stdout",
     "output_type": "stream",
     "text": [
      "do\n",
      "lago\n"
     ]
    }
   ],
   "source": [
    "for palavra in filme.split(\" \")[-2:]:\n",
    "    print(palavra)"
   ]
  },
  {
   "cell_type": "code",
   "execution_count": 13,
   "metadata": {
    "collapsed": false
   },
   "outputs": [
    {
     "name": "stdout",
     "output_type": "stream",
     "text": [
      "maior 20\n"
     ]
    }
   ],
   "source": [
    "def devolve_maior(vetor):\n",
    "    maior = vetor[0]\n",
    "    for nro in vetor:\n",
    "        if nro > maior:\n",
    "            maior = nro\n",
    "    return maior\n",
    "\n",
    "lista = [6,1,8,20,3]\n",
    "print(\"maior\", devolve_maior(lista))\n",
    "    "
   ]
  },
  {
   "cell_type": "code",
   "execution_count": 14,
   "metadata": {
    "collapsed": false
   },
   "outputs": [
    {
     "name": "stdout",
     "output_type": "stream",
     "text": [
      "5 10\n",
      "5 30\n",
      "10 30\n",
      "3 7\n",
      "A idade de maria eh 10\n"
     ]
    }
   ],
   "source": [
    "def imprimir(a=10, b=30):\n",
    "    print(a ,b)\n",
    "    \n",
    "imprimir(5, 10)\n",
    "imprimir(5)\n",
    "imprimir()\n",
    "imprimir(b=7, a=3)\n",
    "\n",
    "idade = 10\n",
    "nome = \"maria\"\n",
    "\n",
    "print(\"A idade de %s eh %d\" % (nome, idade))"
   ]
  },
  {
   "cell_type": "code",
   "execution_count": 15,
   "metadata": {
    "collapsed": false
   },
   "outputs": [
    {
     "name": "stdout",
     "output_type": "stream",
     "text": [
      "3.3333333333333335 <method-wrapper '__repr__' of float object at 0x0000019F976E82F0>\n"
     ]
    }
   ],
   "source": [
    "a = 10.0/3\n",
    "print(a, a.__repr__)\n",
    "a = \"amor\"\n",
    "# print(i) for i in a"
   ]
  }
 ],
 "metadata": {
  "interpreter": {
   "hash": "157eaf6c757b9ba5315724a63fe10859c3a6c625aaa2b5a5404ec49fd0fb8870"
  },
  "kernelspec": {
   "display_name": "Python 2",
   "language": "python",
   "name": "python3"
  },
  "language_info": {
   "codemirror_mode": {
    "name": "ipython",
    "version": 3
   },
   "file_extension": ".py",
   "mimetype": "text/x-python",
   "name": "python",
   "nbconvert_exporter": "python",
   "pygments_lexer": "ipython3",
   "version": "3.11.4"
  }
 },
 "nbformat": 4,
 "nbformat_minor": 0
}
