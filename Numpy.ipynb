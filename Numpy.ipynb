{
 "cells": [
  {
   "cell_type": "markdown",
   "metadata": {},
   "source": [
    "# Exercício 11: Numpy"
   ]
  },
  {
   "cell_type": "code",
   "execution_count": 2,
   "metadata": {
    "collapsed": false
   },
   "outputs": [
    {
     "name": "stdout",
     "output_type": "stream",
     "text": [
      "<class 'numpy.ndarray'> [10 20 30 40 50 60]\n"
     ]
    }
   ],
   "source": [
    "# -*- coding: UTF-8 -*-\n",
    "import numpy as np\n",
    "\n",
    "lista = [10, 20, 30, 40, 50, 60]\n",
    "np_array = np.array(lista)\n",
    "print(type(np_array), np_array)"
   ]
  },
  {
   "cell_type": "code",
   "execution_count": 3,
   "metadata": {
    "collapsed": false
   },
   "outputs": [
    {
     "data": {
      "text/plain": [
       "210"
      ]
     },
     "execution_count": 3,
     "metadata": {},
     "output_type": "execute_result"
    }
   ],
   "source": [
    "sum(np_array)"
   ]
  },
  {
   "cell_type": "code",
   "execution_count": 4,
   "metadata": {
    "collapsed": false
   },
   "outputs": [
    {
     "data": {
      "text/plain": [
       "array([30, 40, 50])"
      ]
     },
     "execution_count": 4,
     "metadata": {},
     "output_type": "execute_result"
    }
   ],
   "source": [
    "np_array[2:5]"
   ]
  },
  {
   "cell_type": "markdown",
   "metadata": {},
   "source": [
    "# Exercício 12: Matrizes"
   ]
  },
  {
   "cell_type": "code",
   "execution_count": 5,
   "metadata": {
    "collapsed": false
   },
   "outputs": [
    {
     "name": "stdout",
     "output_type": "stream",
     "text": [
      "<class 'numpy.ndarray'> \n",
      " [[1 2 3]\n",
      " [4 5 6]\n",
      " [7 8 9]]\n"
     ]
    }
   ],
   "source": [
    "mat = np.array([[1,2,3],[4,5,6],[7,8,9]])\n",
    "print(type(mat), '\\n', mat)"
   ]
  },
  {
   "cell_type": "code",
   "execution_count": 6,
   "metadata": {
    "collapsed": false
   },
   "outputs": [
    {
     "name": "stdout",
     "output_type": "stream",
     "text": [
      "mat[1]: [4 5 6]  - mat[1][1]: 5\n"
     ]
    }
   ],
   "source": [
    "# Acessando uma linha e uma célula da matriz\n",
    "print('mat[1]:', mat[1], ' - mat[1][1]:', mat[1][1])"
   ]
  },
  {
   "cell_type": "code",
   "execution_count": 10,
   "metadata": {
    "collapsed": false
   },
   "outputs": [
    {
     "name": "stdout",
     "output_type": "stream",
     "text": [
      "mat[:,0]: [1 4 7]\n"
     ]
    }
   ],
   "source": [
    "# Acessando uma coluna\n",
    "print('mat[:,0]:', mat[:,0])"
   ]
  },
  {
   "cell_type": "markdown",
   "metadata": {},
   "source": [
    "# Exercício 13: Transposta"
   ]
  },
  {
   "cell_type": "code",
   "execution_count": 11,
   "metadata": {
    "collapsed": false
   },
   "outputs": [
    {
     "name": "stdout",
     "output_type": "stream",
     "text": [
      "[[1 2 3]\n",
      " [4 5 6]\n",
      " [7 8 9]]\n"
     ]
    }
   ],
   "source": [
    "print(mat)"
   ]
  },
  {
   "cell_type": "code",
   "execution_count": 12,
   "metadata": {
    "collapsed": false
   },
   "outputs": [
    {
     "name": "stdout",
     "output_type": "stream",
     "text": [
      "Transposta:\n",
      " [[1 4 7]\n",
      " [2 5 8]\n",
      " [3 6 9]]\n"
     ]
    }
   ],
   "source": [
    "print('Transposta:\\n', mat.transpose())"
   ]
  },
  {
   "cell_type": "markdown",
   "metadata": {},
   "source": [
    "# Exercício 14: Operações"
   ]
  },
  {
   "cell_type": "code",
   "execution_count": 13,
   "metadata": {
    "collapsed": false
   },
   "outputs": [
    {
     "name": "stdout",
     "output_type": "stream",
     "text": [
      "[[1 2]\n",
      " [3 4]]\n",
      "[[5 6]\n",
      " [7 8]]\n"
     ]
    },
    {
     "data": {
      "text/plain": [
       "array([[ 6,  8],\n",
       "       [10, 12]])"
      ]
     },
     "execution_count": 13,
     "metadata": {},
     "output_type": "execute_result"
    }
   ],
   "source": [
    "m1 = np.array([[1,2],[3,4]])\n",
    "print(m1)\n",
    "m2 = np.array([[5,6],[7,8]])\n",
    "print(m2)\n",
    "m1 + m2"
   ]
  },
  {
   "cell_type": "code",
   "execution_count": 14,
   "metadata": {
    "collapsed": false
   },
   "outputs": [
    {
     "data": {
      "text/plain": [
       "array([[-4, -4],\n",
       "       [-4, -4]])"
      ]
     },
     "execution_count": 14,
     "metadata": {},
     "output_type": "execute_result"
    }
   ],
   "source": [
    "m1 - m2"
   ]
  },
  {
   "cell_type": "markdown",
   "metadata": {},
   "source": [
    "# Exercício 15: Funções"
   ]
  },
  {
   "cell_type": "code",
   "execution_count": 15,
   "metadata": {
    "collapsed": false
   },
   "outputs": [
    {
     "data": {
      "text/plain": [
       "20"
      ]
     },
     "execution_count": 15,
     "metadata": {},
     "output_type": "execute_result"
    }
   ],
   "source": [
    "# Soma dos valores do vetor\n",
    "m3 = np.array([3,5,8,4])\n",
    "m3.sum()"
   ]
  },
  {
   "cell_type": "code",
   "execution_count": 16,
   "metadata": {
    "collapsed": false
   },
   "outputs": [
    {
     "data": {
      "text/plain": [
       "2"
      ]
     },
     "execution_count": 16,
     "metadata": {},
     "output_type": "execute_result"
    }
   ],
   "source": [
    "# índice do maior elemento\n",
    "m3.argmax()"
   ]
  },
  {
   "cell_type": "code",
   "execution_count": 17,
   "metadata": {
    "collapsed": false
   },
   "outputs": [
    {
     "data": {
      "text/plain": [
       "0"
      ]
     },
     "execution_count": 17,
     "metadata": {},
     "output_type": "execute_result"
    }
   ],
   "source": [
    "# Índice do menor elemento\n",
    "m3.argmin()"
   ]
  },
  {
   "cell_type": "markdown",
   "metadata": {},
   "source": [
    "# Exercício 16: mais funções"
   ]
  },
  {
   "cell_type": "code",
   "execution_count": 18,
   "metadata": {
    "collapsed": false
   },
   "outputs": [
    {
     "name": "stdout",
     "output_type": "stream",
     "text": [
      "[[1 2 3]\n",
      " [4 5 6]\n",
      " [7 8 9]]\n",
      "matrix.mean(): 5.0\n",
      "matrix.diagonal(): [1 5 9]\n",
      "matrix.ndim: 2\n"
     ]
    }
   ],
   "source": [
    "matrix = mat.copy()\n",
    "print(matrix)\n",
    "# Media dos elementos\n",
    "print('matrix.mean():', matrix.mean()) \n",
    "# diagonal\n",
    "print('matrix.diagonal():', matrix.diagonal()) \n",
    "# dimensao\n",
    "print('matrix.ndim:', matrix.ndim) "
   ]
  },
  {
   "cell_type": "markdown",
   "metadata": {},
   "source": [
    "# Exercício 17: Slicing"
   ]
  },
  {
   "cell_type": "code",
   "execution_count": 19,
   "metadata": {
    "collapsed": false
   },
   "outputs": [
    {
     "data": {
      "text/plain": [
       "array([20, 40, 50, 90])"
      ]
     },
     "execution_count": 19,
     "metadata": {},
     "output_type": "execute_result"
    }
   ],
   "source": [
    "lista = [80, 20, 40, 50, 90]\n",
    "a = np.array(lista)\n",
    "a[1:5]"
   ]
  },
  {
   "cell_type": "code",
   "execution_count": 20,
   "metadata": {
    "collapsed": false
   },
   "outputs": [
    {
     "data": {
      "text/plain": [
       "array([80, 40, 90])"
      ]
     },
     "execution_count": 20,
     "metadata": {},
     "output_type": "execute_result"
    }
   ],
   "source": [
    "a[::2]"
   ]
  },
  {
   "cell_type": "code",
   "execution_count": 21,
   "metadata": {
    "collapsed": false
   },
   "outputs": [
    {
     "data": {
      "text/plain": [
       "array([40, 50, 90])"
      ]
     },
     "execution_count": 21,
     "metadata": {},
     "output_type": "execute_result"
    }
   ],
   "source": [
    "a[-3:]"
   ]
  },
  {
   "cell_type": "markdown",
   "metadata": {},
   "source": [
    "# Exercício 18: Cópia por referência"
   ]
  },
  {
   "cell_type": "code",
   "execution_count": 22,
   "metadata": {
    "collapsed": false
   },
   "outputs": [
    {
     "name": "stdout",
     "output_type": "stream",
     "text": [
      "array a\n",
      " [80 20 40 50 90]\n",
      "array b\n",
      " [80 20 40 50 90]\n",
      "**** Alterando b[0] = 100\n",
      "array a\n",
      " [100  20  40  50  90]\n",
      "array b\n",
      " [100  20  40  50  90]\n"
     ]
    }
   ],
   "source": [
    "b = a[:]\n",
    "print('array a\\n',a)\n",
    "print('array b\\n',b)\n",
    "print('**** Alterando b[0] = 100')\n",
    "b[0] = 100\n",
    "print('array a\\n',a)\n",
    "print('array b\\n',b)"
   ]
  },
  {
   "cell_type": "markdown",
   "metadata": {},
   "source": [
    "# Exercício 19: Cópia por valor"
   ]
  },
  {
   "cell_type": "code",
   "execution_count": 24,
   "metadata": {},
   "outputs": [
    {
     "name": "stdout",
     "output_type": "stream",
     "text": [
      "array a\n",
      " [80 20 40 50 90]\n",
      "array b\n",
      " [80 20 40 50 90]\n",
      "**** Alterando b[0] = 100\n",
      "array a\n",
      " [80 20 40 50 90]\n",
      "array b\n",
      " [100  20  40  50  90]\n"
     ]
    }
   ],
   "source": [
    "a = np.array(lista)\n",
    "b = a.copy()\n",
    "print('array a\\n',a)\n",
    "print('array b\\n',b)\n",
    "print('**** Alterando b[0] = 100')\n",
    "b[0] = 100\n",
    "print('array a\\n',a)\n",
    "print('array b\\n',b)"
   ]
  },
  {
   "cell_type": "markdown",
   "metadata": {},
   "source": [
    "# Exercício 19: Dimensões"
   ]
  },
  {
   "cell_type": "code",
   "execution_count": 29,
   "metadata": {},
   "outputs": [
    {
     "name": "stdout",
     "output_type": "stream",
     "text": [
      "Arranjo inicial: [ 0  1  2  3  4  5  6  7  8  9 10 11 12 13 14]\n",
      "Matriz 3x5\n",
      " [[ 0  1  2  3  4]\n",
      " [ 5  6  7  8  9]\n",
      " [10 11 12 13 14]]\n",
      "Matriz 5x3\n",
      " [[ 0  1  2]\n",
      " [ 3  4  5]\n",
      " [ 6  7  8]\n",
      " [ 9 10 11]\n",
      " [12 13 14]]\n"
     ]
    }
   ],
   "source": [
    "matriz_base = np.arange(0, 15)\n",
    "print('Arranjo inicial:', matriz_base)\n",
    "mat_3x5 = np.reshape(matriz_base, (3, 5))\n",
    "print('Matriz 3x5\\n', mat_3x5)\n",
    "mat_5x3 = np.reshape(matriz_base, (5, 3))\n",
    "print('Matriz 5x3\\n', mat_5x3)"
   ]
  },
  {
   "cell_type": "markdown",
   "metadata": {},
   "source": [
    "# Exercício 20: Numpy ou lista? Qual é o mais rápido?"
   ]
  },
  {
   "cell_type": "code",
   "execution_count": 52,
   "metadata": {},
   "outputs": [
    {
     "name": "stdout",
     "output_type": "stream",
     "text": [
      "soma: 6172840327160521\n"
     ]
    }
   ],
   "source": [
    "# Implemente a soma para muitos elementos\n",
    "soma = 0\n",
    "for i in range(1, 111111119):\n",
    "    soma += i\n",
    "print('soma:', soma)"
   ]
  },
  {
   "cell_type": "code",
   "execution_count": 55,
   "metadata": {},
   "outputs": [
    {
     "name": "stdout",
     "output_type": "stream",
     "text": [
      "np: 6172840327160521.0\n"
     ]
    }
   ],
   "source": [
    "# Use o numpy para somar muitos elementos\n",
    "print('np:', np.arange(1.0, 111111119.0).sum())"
   ]
  },
  {
   "cell_type": "markdown",
   "metadata": {},
   "source": [
    "# Exercício 21: Pontos"
   ]
  },
  {
   "cell_type": "code",
   "execution_count": 67,
   "metadata": {},
   "outputs": [
    {
     "name": "stdout",
     "output_type": "stream",
     "text": [
      "[[93 88 90 34]\n",
      " [38 58 64 19]\n",
      " [73 93 37 94]\n",
      " [66 24 78 86]]\n",
      "pontos[0]: [93 88 90 34]\n",
      "pontos.item(5): 58\n",
      "Pontuação média: 64.6875\n",
      "Mediana: 69.5\n",
      "Maior pontuação: 94\n",
      "Menor pontuação: 19\n"
     ]
    }
   ],
   "source": [
    "import random, numpy as np\n",
    "# Pontos de clientes de um programa de fidelidade\n",
    "joao = random.sample(range(0, 100), 4)\n",
    "jose = random.sample(range(0, 100), 4)\n",
    "maria = random.sample(range(0, 100), 4)\n",
    "anna = random.sample(range(0, 100), 4)\n",
    "\n",
    "pontos = np.array([joao, jose, maria, anna])\n",
    "\n",
    "print(pontos)\n",
    "print('pontos[0]:', pontos[0])\n",
    "print('pontos.item(5):', pontos.item(5))\n",
    "print('Pontuação média:', pontos.mean())\n",
    "print('Mediana:', np.median(pontos))\n",
    "print('Maior pontuação:', pontos.max())\n",
    "print('Menor pontuação:', pontos.min())"
   ]
  },
  {
   "cell_type": "markdown",
   "metadata": {},
   "source": [
    "# Exercício 22: 1ª Plotagem"
   ]
  },
  {
   "cell_type": "code",
   "execution_count": 75,
   "metadata": {
    "collapsed": false,
    "scrolled": true
   },
   "outputs": [
    {
     "data": {
      "text/plain": [
       "[<matplotlib.lines.Line2D at 0x21e282e6a10>]"
      ]
     },
     "execution_count": 75,
     "metadata": {},
     "output_type": "execute_result"
    },
    {
     "data": {
      "image/png": "[encoded data removed]",
      "text/plain": [
       "<Figure size 640x480 with 1 Axes>"
      ]
     },
     "metadata": {},
     "output_type": "display_data"
    }
   ],
   "source": [
    "# -*- coding: UTF-8 -*-\n",
    "import numpy as np\n",
    "import matplotlib.pyplot as plt\n",
    "%matplotlib inline\n",
    "\n",
    "pontuacao = np.array([100, 200, 300, 500, 400, 150])\n",
    "# print(pontuacao)\n",
    "plt.plot(pontuacao)"
   ]
  },
  {
   "cell_type": "markdown",
   "metadata": {},
   "source": [
    "# Exercício 23: Cores, Estilo da Linha, Marcações, Ponto maiores"
   ]
  },
  {
   "cell_type": "code",
   "execution_count": 76,
   "metadata": {
    "collapsed": false
   },
   "outputs": [
    {
     "data": {
      "text/plain": [
       "[<matplotlib.lines.Line2D at 0x21e2835d9d0>]"
      ]
     },
     "execution_count": 76,
     "metadata": {},
     "output_type": "execute_result"
    },
    {
     "data": {
      "image/png": "[encoded data removed]",
      "text/plain": [
       "<Figure size 640x480 with 1 Axes>"
      ]
     },
     "metadata": {},
     "output_type": "display_data"
    }
   ],
   "source": [
    "plt.plot(pontuacao, c ='red', ls='--', marker='s', ms='18')\n",
    "plt.plot(pontuacao, c ='red', ls='--', marker='s', ms='18')"
   ]
  },
  {
   "cell_type": "code",
   "execution_count": 22,
   "metadata": {
    "collapsed": false
   },
   "outputs": [
    {
     "data": {
      "image/png": "[encoded data removed]",
      "text/plain": [
       "<Figure size 432x288 with 1 Axes>"
      ]
     },
     "metadata": {
      "needs_background": "light"
     },
     "output_type": "display_data"
    }
   ],
   "source": [
    "pontuacao2 = np.array([300,400,450,100,250,350])\n",
    "plt.plot(pontuacao, c ='red', ls='--', marker='s', ms='8', label='pontuacao')\n",
    "plt.plot(pontuacao2, c ='black', ls='--', marker='^', ms='8', label='pontuacao2')\n",
    "plt.legend()\n",
    "plt.show()"
   ]
  },
  {
   "cell_type": "code",
   "execution_count": 23,
   "metadata": {
    "collapsed": false
   },
   "outputs": [
    {
     "data": {
      "image/png": "[encoded data removed]",
      "text/plain": [
       "<Figure size 432x288 with 1 Axes>"
      ]
     },
     "metadata": {
      "needs_background": "light"
     },
     "output_type": "display_data"
    }
   ],
   "source": [
    "pontuacao2 = np.array([300,400,450,100,250,350])\n",
    "pontuacao3 = np.array([200,150,300,400,450,590])\n",
    "plt.plot(pontuacao, c ='red', ls='--', marker='s', ms='8', label='pontuacao')\n",
    "plt.plot(pontuacao2, c ='black', ls='--', marker='^', ms='8', label='pontuacao2')\n",
    "plt.plot(pontuacao3, c ='green', ls='--', marker='o', ms='8', label='pontuacao2')\n",
    "plt.legend()\n",
    "plt.show()"
   ]
  },
  {
   "cell_type": "code",
   "execution_count": 26,
   "metadata": {
    "collapsed": true
   },
   "outputs": [],
   "source": [
    "import matplotlib.pyplot as plt\n",
    "%matplotlib inline\n",
    "\n",
    "def ler_arquivo(nome_arquivo):\n",
    "    arq = open(nome_arquivo, 'r')\n",
    "    lista = []\n",
    "    for linha in arq:\n",
    "        valores = linha.strip().split(';')\n",
    "        lista.append(valores)\n",
    "    arq.close()\n",
    "    lista.pop(0)    \n",
    "    nomes = [valor[0] for valor in lista]\n",
    "    notas = [map(lambda item: float(item[0]), valor[1:]) for valor in lista]\n",
    "    \n",
    "    return nomes, notas\n",
    "    \n",
    "(nomes, notas) = ler_arquivo('notas.csv')\n",
    "# plt.plot(notas, c='red', ls='--')\n",
    "#print(nomes\n",
    "#print(notas"
   ]
  },
  {
   "cell_type": "code",
   "execution_count": null,
   "metadata": {},
   "outputs": [],
   "source": []
  },
  {
   "cell_type": "code",
   "execution_count": null,
   "metadata": {},
   "outputs": [],
   "source": []
  }
 ],
 "metadata": {
  "interpreter": {
   "hash": "241d884b02cb62b2da6192724b3b35dc07e3f0f0bbe172faac896f03a01e9dd1"
  },
  "kernelspec": {
   "display_name": "Python 2",
   "language": "python",
   "name": "python3"
  },
  "language_info": {
   "codemirror_mode": {
    "name": "ipython",
    "version": 3
   },
   "file_extension": ".py",
   "mimetype": "text/x-python",
   "name": "python",
   "nbconvert_exporter": "python",
   "pygments_lexer": "ipython3",
   "version": "3.11.5"
  }
 },
 "nbformat": 4,
 "nbformat_minor": 0
}
