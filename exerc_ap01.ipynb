{
 "cells": [
  {
   "cell_type": "code",
   "execution_count": 1,
   "metadata": {},
   "outputs": [
    {
     "name": "stdout",
     "output_type": "stream",
     "text": [
      "['a', 'b', 'c', 'd', 'e', 'f', 'g']\n",
      "hello!\n",
      "hello!\n",
      "Isso Deve Ser Bom\n",
      "4b4c4te 4zul\n"
     ]
    }
   ],
   "source": [
    "# -*- encoding=UTF-8 -*-\n",
    "# Resolução de Exercícios da Apostila 01\n",
    "# Slide 26\n",
    "string = '!! ! a;b;c;d;e;f;gh!########'\n",
    "print(string.strip(' !#h').split(';'))\n",
    "\n",
    "string = 'ring ring! - hello!'\n",
    "print(string[string.find('hello'):])\n",
    "# ou\n",
    "print(string[13:])\n",
    "\n",
    "string = 'isso deve ser bom'\n",
    "print(string.title())\n",
    "\n",
    "string = \"abacate azul\"\n",
    "print(string.replace('a','4'))"
   ]
  },
  {
   "cell_type": "code",
   "execution_count": 10,
   "metadata": {},
   "outputs": [
    {
     "name": "stdout",
     "output_type": "stream",
     "text": [
      "Números são iguais!\n"
     ]
    }
   ],
   "source": [
    "# Slide 33\n",
    "n1 = int(input('Informe o 1º número: '))\n",
    "n2 = int(input('Informe o 2º número: '))\n",
    "if n1 > n2:\n",
    "    print(n1)\n",
    "elif n2 > n1:\n",
    "    print(n2)\n",
    "else:\n",
    "    print('Números são iguais!')\n"
   ]
  },
  {
   "cell_type": "code",
   "execution_count": 8,
   "metadata": {},
   "outputs": [
    {
     "name": "stdout",
     "output_type": "stream",
     "text": [
      "Feminino\n"
     ]
    }
   ],
   "source": [
    "# Slide 33\n",
    "letra = input('Informe o sexo (\"M/F\"): ')\n",
    "if letra.upper() == 'M':\n",
    "    print('Masculino')\n",
    "elif letra.upper() == 'F':\n",
    "    print('Feminino')\n",
    "else:\n",
    "    print('Sexo inválido!')\n"
   ]
  },
  {
   "cell_type": "code",
   "execution_count": 15,
   "metadata": {},
   "outputs": [
    {
     "name": "stdout",
     "output_type": "stream",
     "text": [
      "97 é primo!\n"
     ]
    }
   ],
   "source": [
    "# Slide 38\n",
    "numero = int(input('Informe um número: '))\n",
    "x = 2\n",
    "while x < numero:\n",
    "    if numero % x == 0:\n",
    "        print(f'{numero} não é primo!')\n",
    "        break\n",
    "    x += 1\n",
    "else:\n",
    "    print(f'{numero} é primo!')\n"
   ]
  },
  {
   "cell_type": "code",
   "execution_count": 19,
   "metadata": {},
   "outputs": [
    {
     "name": "stdout",
     "output_type": "stream",
     "text": [
      "s\n",
      "t\n",
      "r\n",
      "i\n",
      "n\n",
      "g\n",
      "2,6,6,12,8,4,14,"
     ]
    }
   ],
   "source": [
    "# Slide 39 e 40\n",
    "for letra in 'string':\n",
    "    print(letra)\n",
    "\n",
    "for item in [1,3,3,6,4,2,7]:\n",
    "    print(item * 2,end=',')"
   ]
  },
  {
   "cell_type": "code",
   "execution_count": 20,
   "metadata": {},
   "outputs": [
    {
     "name": "stdout",
     "output_type": "stream",
     "text": [
      "7  X  0  =  0\n",
      "7  X  1  =  7\n",
      "7  X  2  =  14\n",
      "7  X  3  =  21\n",
      "7  X  4  =  28\n",
      "7  X  5  =  35\n",
      "7  X  6  =  42\n",
      "7  X  7  =  49\n",
      "7  X  8  =  56\n",
      "7  X  9  =  63\n",
      "7  X  10  =  70\n"
     ]
    }
   ],
   "source": [
    "# Slide 42\n",
    "n = int(input('Informe o número da tabuada: '))\n",
    "for i in range(0, 11):\n",
    "    print(n, ' X ', i, ' = ', n * i)"
   ]
  },
  {
   "cell_type": "code",
   "execution_count": 24,
   "metadata": {},
   "outputs": [
    {
     "name": "stdout",
     "output_type": "stream",
     "text": [
      "2500\n"
     ]
    }
   ],
   "source": [
    "# Slide 42\n",
    "#print(list(range(1, 100, 2)))\n",
    "print(sum(range(1, 100, 2)))"
   ]
  },
  {
   "cell_type": "code",
   "execution_count": 25,
   "metadata": {},
   "outputs": [
    {
     "name": "stdout",
     "output_type": "stream",
     "text": [
      "Anderson\n",
      "Meu teste\n",
      "Teste meu mesmo\n"
     ]
    }
   ],
   "source": [
    "# Slide 42\n",
    "while True:\n",
    "    frase = input('Digite a frase: ')\n",
    "    if frase.upper().__eq__('SAIR'):\n",
    "        break\n",
    "    print(frase)"
   ]
  },
  {
   "cell_type": "code",
   "execution_count": 26,
   "metadata": {},
   "outputs": [
    {
     "name": "stdout",
     "output_type": "stream",
     "text": [
      "120\n"
     ]
    }
   ],
   "source": [
    "# Slide 48\n",
    "def fat(n):\n",
    "    resultado = 1\n",
    "    for i in range(2, n + 1):\n",
    "        resultado *= i\n",
    "    return resultado\n",
    "\n",
    "print(fat(5))"
   ]
  },
  {
   "cell_type": "code",
   "execution_count": 27,
   "metadata": {},
   "outputs": [
    {
     "name": "stdout",
     "output_type": "stream",
     "text": [
      "1  é primo.\n",
      "2  é primo.\n",
      "3  é primo.\n",
      "5  é primo.\n",
      "7  é primo.\n",
      "11  é primo.\n",
      "13  é primo.\n",
      "17  é primo.\n",
      "19  é primo.\n",
      "23  é primo.\n",
      "29  é primo.\n",
      "31  é primo.\n",
      "37  é primo.\n",
      "41  é primo.\n",
      "43  é primo.\n",
      "47  é primo.\n",
      "53  é primo.\n",
      "59  é primo.\n",
      "61  é primo.\n",
      "67  é primo.\n",
      "71  é primo.\n",
      "73  é primo.\n",
      "79  é primo.\n",
      "83  é primo.\n",
      "89  é primo.\n",
      "97  é primo.\n"
     ]
    }
   ],
   "source": [
    "# Slide 48\n",
    "def primo(n):\n",
    "    for i in range(2, n):\n",
    "        if n % i == 0:\n",
    "            return False\n",
    "    return True\n",
    "\n",
    "for i in range(1, 101):\n",
    "    if primo(i):\n",
    "        print(i, ' é primo.')"
   ]
  },
  {
   "cell_type": "code",
   "execution_count": 28,
   "metadata": {},
   "outputs": [
    {
     "name": "stdout",
     "output_type": "stream",
     "text": [
      "[1, 2, 3, 4, 5]\n",
      "1\n",
      "[1, 2, 3, 4, 5, 0]\n",
      "[0, 1, 2, 3, 4, 5, 0]\n",
      "2\n",
      "[0, 1, 2, 3, 4, 0]\n",
      "[0, 1, 2, 3, 4] 0\n",
      "3\n",
      "[4, 3, 2, 1, 0]\n",
      "[0, 1, 2, 3, 4]\n"
     ]
    }
   ],
   "source": [
    "# Exemplo Listas\n",
    "lista = list(range(1, 6))\n",
    "print(lista)\n",
    "print(lista[0])\n",
    "lista.append(0)\n",
    "print(lista)\n",
    "lista.insert(0, lista[5])\n",
    "print(lista)\n",
    "print(lista.count(0))\n",
    "lista.remove(5)\n",
    "print(lista)\n",
    "removido = lista.pop(5)\n",
    "print(lista, removido)\n",
    "print(lista.index(3))\n",
    "\n",
    "lista.reverse()\n",
    "print(lista)\n",
    "lista.sort()\n",
    "print(lista)"
   ]
  },
  {
   "cell_type": "code",
   "execution_count": 29,
   "metadata": {},
   "outputs": [
    {
     "name": "stdout",
     "output_type": "stream",
     "text": [
      "(1, 2, 3)\n"
     ]
    }
   ],
   "source": [
    "# Exemplo Tuplas\n",
    "tupla = (1, 2, 3)\n",
    "print(tupla)"
   ]
  },
  {
   "cell_type": "code",
   "execution_count": 34,
   "metadata": {},
   "outputs": [
    {
     "name": "stdout",
     "output_type": "stream",
     "text": [
      "value\n",
      "4\n",
      "{'key': 'value', 2: 4, 'nome': 'Anderson'}\n",
      "{'key': 'value', 'nome': 'Anderson'}\n",
      "Não existe\n",
      "True\n",
      "{'key': 'value', 'nome': 'Anderson'}\n",
      "{}\n"
     ]
    }
   ],
   "source": [
    "# Exemplo Dicionários\n",
    "dicionario = {'key': 'value', 2: 4}\n",
    "print(dicionario['key'])\n",
    "print(dicionario[2])\n",
    "\n",
    "dicionario['nome'] = 'Anderson'\n",
    "print(dicionario)\n",
    "\n",
    "dicionario.pop(2)\n",
    "print(dicionario)\n",
    "\n",
    "print(dicionario.get('sobrenome', 'Não existe'))\n",
    "print('key' in dicionario)\n",
    "\n",
    "print(dicionario)\n",
    "dicionario.clear()\n",
    "print(dicionario)"
   ]
  },
  {
   "cell_type": "code",
   "execution_count": 38,
   "metadata": {},
   "outputs": [
    {
     "name": "stdout",
     "output_type": "stream",
     "text": [
      "[0, 1]\n",
      "[0, 1]\n",
      "[0, 1, 1]\n",
      "[0, 1, 1, 2]\n",
      "[0, 1, 1, 2, 3, 5, 8, 13, 21, 34]\n"
     ]
    }
   ],
   "source": [
    "# Slide 59\n",
    "def fibo(n):\n",
    "    fibs = [0, 1]\n",
    "    for i in range(n - 2):\n",
    "        fibs.append(fibs[-2] + fibs[-1])\n",
    "    return fibs\n",
    "\n",
    "print(fibo(1))\n",
    "print(fibo(2))\n",
    "print(fibo(3))\n",
    "print(fibo(4))\n",
    "print(fibo(10))"
   ]
  },
  {
   "cell_type": "code",
   "execution_count": 39,
   "metadata": {},
   "outputs": [
    {
     "name": "stdout",
     "output_type": "stream",
     "text": [
      "7\n",
      "3\n"
     ]
    }
   ],
   "source": [
    "# Slide 59\n",
    "def countSupX(lista, x):\n",
    "    count = 0\n",
    "    for i in lista:\n",
    "        if i > x:\n",
    "            count += 1\n",
    "    return count\n",
    "\n",
    "lista = [1, 4, 15, 26, 3, 6, 10, 13, 5, 3]\n",
    "print(countSupX(lista, 3))\n",
    "print(countSupX(lista, 10))"
   ]
  },
  {
   "cell_type": "code",
   "execution_count": 40,
   "metadata": {},
   "outputs": [
    {
     "name": "stdout",
     "output_type": "stream",
     "text": [
      "{'ANDER': 10.0, 'T': 9.0, 'X': 3.0}\n"
     ]
    }
   ],
   "source": [
    "# Slide 59\n",
    "notas = {}\n",
    "for i in range(3):\n",
    "    nome = input('Nome: ').upper()\n",
    "    nota = float(input('Nota: '))\n",
    "    notas[nome] = nota\n",
    "    \n",
    "print(notas)"
   ]
  },
  {
   "cell_type": "code",
   "execution_count": 40,
   "metadata": {},
   "outputs": [
    {
     "name": "stdout",
     "output_type": "stream",
     "text": [
      "A\n",
      "AN\n",
      "AND\n",
      "ANDE\n",
      "ANDER\n",
      "ANDERS\n",
      "ANDERSO\n",
      "ANDERSON\n"
     ]
    }
   ],
   "source": [
    "# Slide 59\n",
    "def escada(string):\n",
    "    for i in range(len(string)):\n",
    "        print(string[:i + 1])\n",
    "\n",
    "escada('ANDERSON')"
   ]
  }
 ],
 "metadata": {
  "kernelspec": {
   "display_name": "tutorial-env",
   "language": "python",
   "name": "python3"
  },
  "language_info": {
   "codemirror_mode": {
    "name": "ipython",
    "version": 3
   },
   "file_extension": ".py",
   "mimetype": "text/x-python",
   "name": "python",
   "nbconvert_exporter": "python",
   "pygments_lexer": "ipython3",
   "version": "3.11.5"
  },
  "orig_nbformat": 4
 },
 "nbformat": 4,
 "nbformat_minor": 2
}
