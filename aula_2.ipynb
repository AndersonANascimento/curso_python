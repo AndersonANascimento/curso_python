{
 "cells": [
  {
   "cell_type": "code",
   "execution_count": 1,
   "metadata": {
    "collapsed": false
   },
   "outputs": [
    {
     "name": "stdout",
     "output_type": "stream",
     "text": [
      "Hello world!\n"
     ]
    }
   ],
   "source": [
    "print \"Hello world!\""
   ]
  },
  {
   "cell_type": "code",
   "execution_count": 22,
   "metadata": {
    "collapsed": false
   },
   "outputs": [
    {
     "name": "stdout",
     "output_type": "stream",
     "text": [
      "[1, 2, 3, 4, 5]\n",
      "1\n",
      "[1, 2, 3, 4, 5, 4]\n",
      "[1, 'objeto', 2, 3, 4, 5, 4]\n",
      "[1, 'objeto', 2, 3, 5, 4]\n",
      "1 4 1\n",
      "None [5, 3, 2, 'objeto']\n",
      "None [2, 3, 5, 'objeto']\n"
     ]
    }
   ],
   "source": [
    "lista = [1,2,3,4,5]\n",
    "print lista\n",
    "print lista[0]\n",
    "\n",
    "lista.append(4)\n",
    "print lista\n",
    "\n",
    "lista.insert(1,'objeto')\n",
    "print lista\n",
    "\n",
    "lista.remove(4)\n",
    "print lista\n",
    "\n",
    "i0 = lista.pop(0)\n",
    "ult_item = lista.pop()\n",
    "\n",
    "print i0, ult_item, lista.count(2)\n",
    "print lista.reverse(), lista\n",
    "print lista.sort(), lista"
   ]
  },
  {
   "cell_type": "code",
   "execution_count": 25,
   "metadata": {
    "collapsed": false
   },
   "outputs": [
    {
     "name": "stdout",
     "output_type": "stream",
     "text": [
      "[[10, 40, 20], [50, 60, 70], [30, 80, 90]]\n",
      "None [[10, 40, 20], [30, 80, 90], [50, 60, 70]]\n"
     ]
    }
   ],
   "source": [
    "m = [[10,40,20],[50,60,70],[30,80,90]]\n",
    "print m\n",
    "print m.sort(), m"
   ]
  },
  {
   "cell_type": "code",
   "execution_count": 32,
   "metadata": {
    "collapsed": false
   },
   "outputs": [
    {
     "name": "stdout",
     "output_type": "stream",
     "text": [
      "[10, 40, 20]\n",
      "[50, 60, 70]\n",
      "[30, 80, 90]\n"
     ]
    }
   ],
   "source": [
    "def impMatrix(m):\n",
    "    for linha in m:\n",
    "        print linha\n",
    "        \n",
    "m = [[10,40,20],[50,60,70],[30,80,90]]\n",
    "impMatrix(m)"
   ]
  },
  {
   "cell_type": "code",
   "execution_count": 38,
   "metadata": {
    "collapsed": false
   },
   "outputs": [
    {
     "name": "stdout",
     "output_type": "stream",
     "text": [
      "450\n"
     ]
    }
   ],
   "source": [
    "def somaMatrix(m):\n",
    "    soma = 0\n",
    "    for linha in m:\n",
    "        soma += sum(linha)\n",
    "    return soma\n",
    "        \n",
    "m = [[10,40,20],[50,60,70],[30,80,90]]\n",
    "print somaMatrix(m)"
   ]
  },
  {
   "cell_type": "code",
   "execution_count": 68,
   "metadata": {
    "collapsed": false
   },
   "outputs": [
    {
     "name": "stdout",
     "output_type": "stream",
     "text": [
      "Informe o valor dos \"n\" elementos da Série de Fibonacci:20\n",
      "fibo( 20 ) = [0, 1, 1, 2, 3, 5, 8, 13, 21, 34, 55, 89, 144, 233, 377, 610, 987, 1597, 2584, 4181] 20\n"
     ]
    }
   ],
   "source": [
    "def fibo(n):\n",
    "    part = [0,1]\n",
    "    for i in range(n-2):\n",
    "        part.append(part[-2] + part[-1])\n",
    "    return part\n",
    "         \n",
    "n = input('Informe o valor dos \"n\" elementos da Série de Fibonacci:')\n",
    "print 'fibo(',n,') =',fibo(n), len(fibo(n))"
   ]
  },
  {
   "cell_type": "code",
   "execution_count": 48,
   "metadata": {
    "collapsed": false
   },
   "outputs": [
    {
     "name": "stdout",
     "output_type": "stream",
     "text": [
      "3\n",
      "5\n"
     ]
    }
   ],
   "source": [
    "def maioresQueN(lista, n=10):\n",
    "    cont = 0\n",
    "    for item in lista:\n",
    "        if item > n:\n",
    "            cont += 1\n",
    "    return cont\n",
    "\n",
    "l = [1,4,15,26,3,6,10,13,5,3]\n",
    "print maioresQueN(l)\n",
    "print maioresQueN(l, 5)"
   ]
  },
  {
   "cell_type": "code",
   "execution_count": 62,
   "metadata": {
    "collapsed": false
   },
   "outputs": [
    {
     "name": "stdout",
     "output_type": "stream",
     "text": [
      "Nome:\n",
      "Nota:\n"
     ]
    },
    {
     "ename": "SyntaxError",
     "evalue": "unexpected EOF while parsing (<string>, line 0)",
     "output_type": "error",
     "traceback": [
      "\u001b[1;36m  File \u001b[1;32m\"<string>\"\u001b[1;36m, line \u001b[1;32munknown\u001b[0m\n\u001b[1;33m    \u001b[0m\n\u001b[1;37m    ^\u001b[0m\n\u001b[1;31mSyntaxError\u001b[0m\u001b[1;31m:\u001b[0m unexpected EOF while parsing\n"
     ]
    }
   ],
   "source": [
    "notas = {}\n",
    "num_alunos = 5\n",
    "for i in range(num_alunos):\n",
    "    nome = raw_input('Nome:')\n",
    "    nota = input('Nota:')\n",
    "    notas[nome] = nota\n",
    "\n",
    "print notas"
   ]
  },
  {
   "cell_type": "code",
   "execution_count": 69,
   "metadata": {
    "collapsed": false
   },
   "outputs": [
    {
     "name": "stdout",
     "output_type": "stream",
     "text": [
      "T\n",
      "TE\n",
      "TES\n",
      "TEST\n",
      "TESTE\n",
      "[0, 1, 2, 3, 4]\n"
     ]
    }
   ],
   "source": [
    "def escada(s):\n",
    "    for i in range(len(s)):\n",
    "        print s[:i+1]\n",
    "        \n",
    "escada('TESTE')\n",
    "print range(5)"
   ]
  },
  {
   "cell_type": "code",
   "execution_count": null,
   "metadata": {
    "collapsed": false
   },
   "outputs": [
    {
     "name": "stdout",
     "output_type": "stream",
     "text": [
      "------------------------------ MENU ------------------------------\n",
      "1. Cadastrar\n",
      "2. Listar Dicionário\n",
      "3. Sair\n",
      "-------------------------------------------------------------------\n",
      "Escolha a opção [1-3]: 2\n",
      "Listar Dicionário\n",
      "Agência: 65  C/C: 666\n",
      "Nome: Chico\n",
      "Agência: 3715  C/C: 21717\n",
      "Nome: Anderson\n",
      "------------------------------ MENU ------------------------------\n",
      "1. Cadastrar\n",
      "2. Listar Dicionário\n",
      "3. Sair\n",
      "-------------------------------------------------------------------\n"
     ]
    }
   ],
   "source": [
    "# Sistema de Cadastro de CC\n",
    "def print_menu():       \n",
    "    print 30 * \"-\" , \"MENU\" , 30 * \"-\"\n",
    "    print \"1. Cadastrar\"\n",
    "    print \"2. Listar Dicionário\"\n",
    "    print \"3. Sair\"\n",
    "    print 67 * \"-\"\n",
    "\n",
    "def cadastra(ccs):\n",
    "    dados = {}\n",
    "    agencia = input('Informe o número da agência:')\n",
    "    conta = input('Informe o número da conta:')    \n",
    "    dados['nome'] = raw_input('Nome:')\n",
    "    dados['saldo'] = input('Saldo:')\n",
    "    dados['limite'] = input('Limite:')\n",
    "    dados['movto'] = []    \n",
    "    cad_movto = raw_input('Deseja cadastrar movimentação? (S ou N)')\n",
    "    while cad_movto=='S':\n",
    "        movto = {}\n",
    "        movto['data'] = raw_input('Data movto:')\n",
    "        movto['descricao'] = raw_input('Descriçao movto:')\n",
    "        movto['valor'] = input('Valor movto:')\n",
    "        dados['movto'].append(movto)\n",
    "        cad_movto = raw_input('Deseja cadastrar movimentação? (S ou N)')   \n",
    "    ccs[(agencia,conta)] = dados\n",
    "    return ccs\n",
    "\n",
    "def listar(ccs):\n",
    "    for conta in ccs:\n",
    "        print \"Agência:\", conta[0], ' C/C:', conta[1]\n",
    "        print 'Nome:', ccs[conta]['nome']\n",
    "\n",
    "ccs = {(65, 666): {'limite': 1000.0, 'movto': [{'data': '04/04/2017', 'descricao': 'Cesta de servicos', 'valor': 50.0}, {'data': '01/05/2017', 'descricao': 'Pagto fatura', 'valor': 1530.53}], 'saldo': 10000.0, 'nome': 'Chico'}, (3715, 21717): {'limite': 50000.0, 'movto': [{'data': '01/04/2017', 'descricao': 'Deposito', 'valor': 100000.0}, {'data': '04/05/2017', 'descricao': 'Saque', 'valor': 150000.0}], 'saldo': 10000.0, 'nome': 'Anderson'}}\n",
    "\n",
    "loop=True\n",
    " \n",
    "while loop:\n",
    "    print_menu()\n",
    "    opc = input(\"Escolha a opção [1-3]: \")\n",
    "    \n",
    "    if opc==1:     \n",
    "        print \"Cadastro\"\n",
    "        ccs = cadastra(ccs)\n",
    "    elif opc==2:\n",
    "        print \"Listar Dicionário\"\n",
    "        listar(ccs)\n",
    "    elif opc==3:\n",
    "        print \"Sair\"\n",
    "        loop=False\n",
    "    else:\n",
    "        raw_input(\"Opção inválida. Tente novamente...\")\n"
   ]
  },
  {
   "cell_type": "code",
   "execution_count": null,
   "metadata": {
    "collapsed": true
   },
   "outputs": [],
   "source": []
  }
 ],
 "metadata": {
  "kernelspec": {
   "display_name": "Python 2",
   "language": "python",
   "name": "python2"
  },
  "language_info": {
   "codemirror_mode": {
    "name": "ipython",
    "version": 2
   },
   "file_extension": ".py",
   "mimetype": "text/x-python",
   "name": "python",
   "nbconvert_exporter": "python",
   "pygments_lexer": "ipython2",
   "version": "2.7.11"
  }
 },
 "nbformat": 4,
 "nbformat_minor": 0
}
