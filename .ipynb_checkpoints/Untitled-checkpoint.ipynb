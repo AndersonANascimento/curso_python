{
 "cells": [
  {
   "cell_type": "code",
   "execution_count": 16,
   "metadata": {
    "collapsed": false
   },
   "outputs": [
    {
     "name": "stdout",
     "output_type": "stream",
     "text": [
      "[[8.0, 7.0, 9.0, 7.0, 1.0], [7.0, 4.0, 8.0, 8.0, 9.0], [1.0, 9.0, 8.0, 9.0, 8.0]]\n",
      "[[ 8.  7.  9.  7.  1.]\n",
      " [ 7.  4.  8.  8.  9.]\n",
      " [ 1.  9.  8.  9.  8.]]\n"
     ]
    },
    {
     "data": {
      "image/png": "[encoded data removed]",
      "text/plain": [
       "<matplotlib.figure.Figure at 0x7fccba37b250>"
      ]
     },
     "metadata": {},
     "output_type": "display_data"
    }
   ],
   "source": [
    "import numpy as np\n",
    "import matplotlib.pyplot as plt\n",
    "%matplotlib inline\n",
    "\n",
    "def ler_arquivo(nome_arquivo):\n",
    "    arq = open(nome_arquivo, 'r')\n",
    "    lista = []\n",
    "    for linha in arq:\n",
    "        valores = linha.strip().split(';')\n",
    "        lista.append(valores)\n",
    "    arq.close()\n",
    "    lista.pop(0)    \n",
    "    nomes = [valor[0] for valor in lista]\n",
    "    notas = [map(lambda item: float(item[0]), valor[1:]) for valor in lista]\n",
    "    \n",
    "    return nomes, notas\n",
    "    \n",
    "nomes, notas = ler_arquivo('notas.csv')\n",
    "cores = ['red','green','blue']\n",
    "marcadores = ['o','^','s']\n",
    "\n",
    "print notas\n",
    "notas = np.array(notas)\n",
    "print notas\n",
    "\n",
    "for index, nome in enumerate(nomes):\n",
    "    plt.plot(notas[index], c=cores[index], marker=marcadores[index], ms=8, label=nome)\n",
    "\n",
    "plt.legend(loc='lower left')\n",
    "plt.show()\n",
    "#print nomes\n",
    "#print notas"
   ]
  },
  {
   "cell_type": "code",
   "execution_count": 22,
   "metadata": {
    "collapsed": false
   },
   "outputs": [
    {
     "name": "stdout",
     "output_type": "stream",
     "text": [
      "Dimensões (eixos): 1\n"
     ]
    },
    {
     "data": {
      "text/plain": [
       "array([10, 20, 50, 70, 30])"
      ]
     },
     "execution_count": 22,
     "metadata": {},
     "output_type": "execute_result"
    }
   ],
   "source": [
    "import numpy as np\n",
    "\n",
    "vetor = np.array([10,20,50,70,30])\n",
    "print 'Dimensões (eixos):', vetor.ndim\n",
    "vetor"
   ]
  },
  {
   "cell_type": "code",
   "execution_count": 23,
   "metadata": {
    "collapsed": false
   },
   "outputs": [
    {
     "data": {
      "text/plain": [
       "array([10, 90, 20, 50, 70, 30])"
      ]
     },
     "execution_count": 23,
     "metadata": {},
     "output_type": "execute_result"
    }
   ],
   "source": [
    "vetor = np.insert(vetor,1,90)\n",
    "vetor"
   ]
  },
  {
   "cell_type": "code",
   "execution_count": 26,
   "metadata": {
    "collapsed": false
   },
   "outputs": [
    {
     "name": "stdout",
     "output_type": "stream",
     "text": [
      "Dimensões (eixos): 2\n",
      "[[1 2 3]\n",
      " [4 5 6]\n",
      " [7 8 9]]\n",
      "Soma de colunas [12 15 18]\n",
      "Soma de linhas [ 6 15 24]\n"
     ]
    }
   ],
   "source": [
    "import numpy as np\n",
    "matriz = np.array([[1,2,3],[4,5,6],[7,8,9]])\n",
    "print 'Dimensões (eixos):', matriz.ndim\n",
    "print matriz\n",
    "print 'Soma de colunas', matriz.sum(axis=0)\n",
    "print 'Soma de linhas', matriz.sum(axis=1)"
   ]
  },
  {
   "cell_type": "code",
   "execution_count": 27,
   "metadata": {
    "collapsed": false
   },
   "outputs": [
    {
     "name": "stdout",
     "output_type": "stream",
     "text": [
      "Dimensões (eixos): 1 array([1, 2, 3])\n"
     ]
    }
   ],
   "source": [
    "import numpy as np\n",
    "\n",
    "vetor = np.array([1,2,3])\n",
    "print 'Dimensões (eixos):', vetor.ndim, vetor.__repr__()"
   ]
  },
  {
   "cell_type": "code",
   "execution_count": 28,
   "metadata": {
    "collapsed": false
   },
   "outputs": [
    {
     "name": "stdout",
     "output_type": "stream",
     "text": [
      "Dimensões (eixos): 1 array([1, 2, 3, 4])\n"
     ]
    }
   ],
   "source": [
    "vetor = np.append(vetor, 4)\n",
    "print 'Dimensões (eixos):', vetor.ndim, vetor.__repr__()"
   ]
  },
  {
   "cell_type": "code",
   "execution_count": 29,
   "metadata": {
    "collapsed": false
   },
   "outputs": [
    {
     "name": "stdout",
     "output_type": "stream",
     "text": [
      "Dimensões (eixos): 1 array([1, 2, 3, 4, 5, 6, 7])\n"
     ]
    }
   ],
   "source": [
    "vetor = np.append(vetor, [5,6,7])\n",
    "print 'Dimensões (eixos):', vetor.ndim, vetor.__repr__()"
   ]
  },
  {
   "cell_type": "code",
   "execution_count": 30,
   "metadata": {
    "collapsed": false
   },
   "outputs": [
    {
     "name": "stdout",
     "output_type": "stream",
     "text": [
      "Inclusão de uma linha\n"
     ]
    },
    {
     "data": {
      "text/plain": [
       "array([[1, 2, 3],\n",
       "       [4, 5, 6],\n",
       "       [7, 8, 9],\n",
       "       [0, 0, 0]])"
      ]
     },
     "execution_count": 30,
     "metadata": {},
     "output_type": "execute_result"
    }
   ],
   "source": [
    "print 'Inclusão de uma linha'\n",
    "np.append(matriz, [[0,0,0]], axis=0)"
   ]
  },
  {
   "cell_type": "code",
   "execution_count": 31,
   "metadata": {
    "collapsed": false
   },
   "outputs": [
    {
     "name": "stdout",
     "output_type": "stream",
     "text": [
      "Inclusão de uma coluna\n",
      "[[1 2 3]\n",
      " [4 5 6]\n",
      " [7 8 9]]\n",
      "Novos dados: [[0 0 0]] (1, 3)\n"
     ]
    }
   ],
   "source": [
    "print 'Inclusão de uma coluna'\n",
    "print matriz\n",
    "coluna = np.array([[0,0,0]])\n",
    "print 'Novos dados:', coluna, coluna.shape"
   ]
  },
  {
   "cell_type": "code",
   "execution_count": 34,
   "metadata": {
    "collapsed": false
   },
   "outputs": [
    {
     "name": "stdout",
     "output_type": "stream",
     "text": [
      "[[0]\n",
      " [0]\n",
      " [0]] (3, 1)\n"
     ]
    }
   ],
   "source": [
    "coluna = np.reshape(coluna, (3,1))\n",
    "print coluna, coluna.shape"
   ]
  },
  {
   "cell_type": "code",
   "execution_count": 35,
   "metadata": {
    "collapsed": false
   },
   "outputs": [
    {
     "data": {
      "text/plain": [
       "array([[1, 2, 3, 0],\n",
       "       [4, 5, 6, 0],\n",
       "       [7, 8, 9, 0]])"
      ]
     },
     "execution_count": 35,
     "metadata": {},
     "output_type": "execute_result"
    }
   ],
   "source": [
    "np.append(matriz, coluna, axis=1)"
   ]
  }
 ],
 "metadata": {
  "kernelspec": {
   "display_name": "Python 2",
   "language": "python",
   "name": "python2"
  },
  "language_info": {
   "codemirror_mode": {
    "name": "ipython",
    "version": 2
   },
   "file_extension": ".py",
   "mimetype": "text/x-python",
   "name": "python",
   "nbconvert_exporter": "python",
   "pygments_lexer": "ipython2",
   "version": "2.7.11"
  }
 },
 "nbformat": 4,
 "nbformat_minor": 0
}
