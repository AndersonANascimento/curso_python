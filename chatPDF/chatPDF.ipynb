{
 "cells": [
  {
   "attachments": {},
   "cell_type": "markdown",
   "metadata": {},
   "source": [
    "### Add PDF via File Upload\n",
    "Adicione um arquivo PDF carregando-o no ChatPDF como um formulário de várias partes. Você só pode carregar um arquivo por vez. Esse endpoint retorna um ID de origem que pode ser usado para interagir com o arquivo PDF."
   ]
  },
  {
   "cell_type": "code",
   "execution_count": 11,
   "metadata": {},
   "outputs": [
    {
     "name": "stdout",
     "output_type": "stream",
     "text": [
      "Source ID: src_yChHoN9ic16tPWTfJ9dyu\n"
     ]
    }
   ],
   "source": [
    "import requests\n",
    "\n",
    "files = [\n",
    "    ('file', ('file', open(\"./PDFs/theWitcher.pdf\", 'rb'), 'application/octet-stream'))\n",
    "]\n",
    "headers = {\n",
    "    'x-api-key': 'sec_3JMwwjwDrhjL8QC5PuW8jkmzmprAX0zn'\n",
    "}\n",
    "\n",
    "response = requests.post(\n",
    "    'https://api.chatpdf.com/v1/sources/add-file', headers=headers, files=files)\n",
    "\n",
    "if response.status_code == 200:\n",
    "    print('Source ID:', response.json()['sourceId'])\n",
    "else:\n",
    "    print('Status:', response.status_code)\n",
    "    print('Error:', response.text)"
   ]
  },
  {
   "cell_type": "code",
   "execution_count": 2,
   "metadata": {},
   "outputs": [
    {
     "name": "stdout",
     "output_type": "stream",
     "text": [
      "Result: Lambert não é mencionado nas páginas fornecidas como fonte de informação. Infelizmente, não posso fornecer informações sobre algo que não está presente nas páginas fornecidas. Posso ajudá-lo em alguma outra coisa?\n"
     ]
    }
   ],
   "source": [
    "import requests\n",
    "\n",
    "headers = {\n",
    "    'x-api-key': 'sec_3JMwwjwDrhjL8QC5PuW8jkmzmprAX0zn',\n",
    "    \"Content-Type\": \"application/json\",\n",
    "}\n",
    "\n",
    "data = {\n",
    "    \"referenceSources\": True,\n",
    "    'sourceId': \"src_yChHoN9ic16tPWTfJ9dyu\",\n",
    "    'messages': [\n",
    "        {\n",
    "            'role': \"user\",\n",
    "            'content': \"Quem é Lambert?\",\n",
    "            # 'content': \"Como exibir a documentação?\",\n",
    "        }\n",
    "    ]\n",
    "}\n",
    "\n",
    "response = requests.post(\n",
    "    'https://api.chatpdf.com/v1/chats/message', headers=headers, json=data)\n",
    "\n",
    "if response.status_code == 200:\n",
    "    print('Result:', response.json()['content'])\n",
    "else:\n",
    "    print('Status:', response.status_code)\n",
    "    print('Error:', response.text)"
   ]
  },
  {
   "attachments": {},
   "cell_type": "markdown",
   "metadata": {},
   "source": [
    "### Delete PDF\n",
    "Exclua um ou vários arquivos PDF do ChatPDF usando seus IDs de origem."
   ]
  },
  {
   "cell_type": "code",
   "execution_count": 9,
   "metadata": {},
   "outputs": [
    {
     "name": "stdout",
     "output_type": "stream",
     "text": [
      "Success\n"
     ]
    }
   ],
   "source": [
    "import requests\n",
    "\n",
    "headers = {\n",
    "  'x-api-key': 'sec_3JMwwjwDrhjL8QC5PuW8jkmzmprAX0zn',\n",
    "  'Content-Type': 'application/json',\n",
    "}\n",
    "\n",
    "data = {\n",
    "  'sources': ['src_1wzeBh0T8c6jmpbyeJo83'],\n",
    "}\n",
    "\n",
    "try:\n",
    "  response = requests.post(\n",
    "    'https://api.chatpdf.com/v1/sources/delete', json=data, headers=headers)\n",
    "  response.raise_for_status()\n",
    "  print('Success')\n",
    "except requests.exceptions.RequestException as error:\n",
    "  print('Error:', error)\n",
    "  print('Response:', error.response.text)"
   ]
  }
 ],
 "metadata": {
  "kernelspec": {
   "display_name": ".venv",
   "language": "python",
   "name": "python3"
  },
  "language_info": {
   "codemirror_mode": {
    "name": "ipython",
    "version": 3
   },
   "file_extension": ".py",
   "mimetype": "text/x-python",
   "name": "python",
   "nbconvert_exporter": "python",
   "pygments_lexer": "ipython3",
   "version": "3.11.4"
  },
  "orig_nbformat": 4
 },
 "nbformat": 4,
 "nbformat_minor": 2
}
