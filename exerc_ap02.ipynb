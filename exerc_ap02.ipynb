{
 "cells": [
  {
   "cell_type": "markdown",
   "metadata": {},
   "source": [
    "# Criando listas"
   ]
  },
  {
   "cell_type": "code",
   "execution_count": 21,
   "metadata": {},
   "outputs": [
    {
     "name": "stdout",
     "output_type": "stream",
     "text": [
      "<class 'list'> [10, 20, 30, 40, 50, 30, 70, 80]\n",
      "De 0 a 10 [0, 1, 2, 3, 4, 5, 6, 7, 8, 9]\n",
      "De 3 a 10 [3, 4, 5, 6, 7, 8, 9]\n",
      "De 3 a 10, passo=2 [3, 5, 7, 9]\n",
      "List comprehensions [0, 2, 4, 6, 8, 10, 12, 14]\n"
     ]
    }
   ],
   "source": [
    "# -*- coding: UTF-8 -*-\n",
    "# Definição e inicialização\n",
    "lista = [10, 20, 30, 40, 50, 30, 70, 80]\n",
    "print(type(lista), lista)\n",
    "lista2 = range(10)\n",
    "print('De 0 a 10', list(lista2))\n",
    "lista3 = range(3, 10)\n",
    "print('De 3 a 10', list(lista3))\n",
    "lista4 = range(3, 10, 2)\n",
    "print('De 3 a 10, passo=2', list(lista4))\n",
    "lista5 = [x*2 for x in range(8)]\n",
    "print('List comprehensions', lista5)"
   ]
  },
  {
   "cell_type": "markdown",
   "metadata": {},
   "source": [
    "# Percorrendo listas"
   ]
  },
  {
   "cell_type": "code",
   "execution_count": 20,
   "metadata": {},
   "outputs": [
    {
     "name": "stdout",
     "output_type": "stream",
     "text": [
      "lista[0] = 50\n",
      "lista[1] = 70\n",
      "lista[2] = 80\n",
      "Lista invertida com passo do slicing = -1 >> [30, 20, 30, 10, 40, 80, 70, 50]\n",
      "Lista invertida com reversed() >> [30, 20, 30, 10, 40, 80, 70, 50]\n",
      "Lista ordenada >> [10, 20, 30, 30, 40, 50, 70, 80]\n"
     ]
    },
    {
     "data": {
      "text/plain": [
       "[50, 70, 80, 40, 10, 30, 20, 30]"
      ]
     },
     "execution_count": 20,
     "metadata": {},
     "output_type": "execute_result"
    }
   ],
   "source": [
    "lista = [50, 70, 80, 40, 10, 30, 20, 30]\n",
    "# Percorrer lista obtendo índice e valor\n",
    "for key, value in enumerate(lista[:3]):\n",
    "    print(\"lista[%d] = %d\" % (key, value),)\n",
    "print(\"Lista invertida com passo do slicing = -1 >> \", end='')\n",
    "print([x for x in lista[::-1]])\n",
    "print(\"Lista invertida com reversed() >> \", end='')\n",
    "print([x for x in reversed(lista)])\n",
    "print(\"Lista ordenada >> \", end='')\n",
    "print([x for x in sorted(lista)])\n",
    "lista"
   ]
  },
  {
   "cell_type": "markdown",
   "metadata": {},
   "source": [
    "# Trabalhando com referências"
   ]
  },
  {
   "cell_type": "code",
   "execution_count": 25,
   "metadata": {},
   "outputs": [
    {
     "name": "stdout",
     "output_type": "stream",
     "text": [
      "Antes  da alteração\n",
      " [10, 20, 30, 40, 50, 60, 70, 80] \n",
      " [10, 20, 30, 40, 50, 60, 70, 80]\n",
      "Depois da alteração\n",
      " [300, 20, 30, 40, 50, 60, 70, 80] \n",
      " [300, 20, 30, 40, 50, 60, 70, 80]\n",
      "True\n"
     ]
    }
   ],
   "source": [
    "lista = [10, 20, 30, 40, 50, 60, 70, 80]\n",
    "\n",
    "# Enviando cópia de referência\n",
    "lista_ref = lista\n",
    "\n",
    "print('Antes  da alteração\\n', lista, '\\n', lista_ref)\n",
    "lista_ref[0] = 300\n",
    "print('Depois da alteração\\n', lista, '\\n', lista_ref)\n",
    "\n",
    "print(lista == lista_ref)"
   ]
  },
  {
   "cell_type": "markdown",
   "metadata": {},
   "source": [
    "# Trabalhando com valores"
   ]
  },
  {
   "cell_type": "code",
   "execution_count": 28,
   "metadata": {},
   "outputs": [
    {
     "name": "stdout",
     "output_type": "stream",
     "text": [
      "Antes  da alteração\n",
      " [10, 20, 30, 40, 50, 60, 70, 80] \n",
      " [10, 20, 30, 40, 50, 60, 70, 80]\n",
      "Depois da alteração\n",
      " [10, 20, 30, 40, 50, 60, 70, 80] \n",
      " [300, 20, 30, 40, 50, 60, 70, 80]\n"
     ]
    }
   ],
   "source": [
    "lista = list(range(10, 90, 10))\n",
    "\n",
    "# Enviando cópia dos dados\n",
    "lista_copia = lista[:]\n",
    "\n",
    "print('Antes  da alteração\\n', lista, '\\n', lista_copia)\n",
    "lista_copia[0] = 300\n",
    "print('Depois da alteração\\n', lista, '\\n', lista_copia)"
   ]
  },
  {
   "cell_type": "markdown",
   "metadata": {},
   "source": [
    "# Listas aleatórias"
   ]
  },
  {
   "cell_type": "code",
   "execution_count": 93,
   "metadata": {},
   "outputs": [
    {
     "name": "stdout",
     "output_type": "stream",
     "text": [
      "Lista original\t\t>> [50, 70, 80, 40, 10, 30, 20, 30]\n",
      "Lista embaralhada\t>> [40, 30, 10, 20, 30, 50, 70, 80]\n",
      "Pegando um nº aleatório da lista\t>> 20\n",
      "Amostra aleatória de 4 elementos\t>> [50, 30, 30, 10]\n",
      "Lista gerada com 6 números aleatórios(entre 1 e 60) >> [43, 19, 5, 21, 25, 13]\n"
     ]
    }
   ],
   "source": [
    "import random\n",
    "lista = [50, 70, 80, 40, 10, 30, 20, 30]\n",
    "print('Lista original\\t\\t>>', lista)\n",
    "random.shuffle(lista)\n",
    "print('Lista embaralhada\\t>>', lista)\n",
    "print('Pegando um nº aleatório da lista\\t>>', random.choice(lista))\n",
    "print('Amostra aleatória de 4 elementos\\t>>', random.sample(lista, 4))\n",
    "print('Lista gerada com 6 números aleatórios(entre 1 e 60) >>', random.sample(range(1, 61), 6))\n"
   ]
  },
  {
   "cell_type": "markdown",
   "metadata": {},
   "source": [
    "# Slicing em listas"
   ]
  },
  {
   "cell_type": "code",
   "execution_count": 92,
   "metadata": {},
   "outputs": [
    {
     "name": "stdout",
     "output_type": "stream",
     "text": [
      "Coordenada 1: 70\n",
      "Elementos dos índices de 1 a 4: [70, 80, 40, 10]\n",
      "Elementos até o índice 4: [50, 70, 80, 40, 10]\n",
      "Elementos a partir do índice 5: [30, 20, 30]\n",
      "5 últimos elementos: [40, 10, 30, 20, 30]\n",
      "Começando no índice 1, de 2 em 2: [70, 40, 30, 30]\n",
      "Elementos de índice par: [50, 80, 10, 20]\n",
      "Elementos de índice ímpar: [70, 40, 30, 30]\n"
     ]
    }
   ],
   "source": [
    "lista = [50, 70, 80, 40, 10, 30, 20, 30]\n",
    "print('Coordenada 1:', lista[1])\n",
    "print('Elementos dos índices de 1 a 4:', lista[1:5])\n",
    "print('Elementos até o índice 4:', lista[:5])\n",
    "print('Elementos a partir do índice 5:', lista[5:])\n",
    "print('5 últimos elementos:', lista[-5:])\n",
    "print('Começando no índice 1, de 2 em 2:', lista[1::2])\n",
    "print('Elementos de índice par:', lista[::2])\n",
    "print('Elementos de índice ímpar:', lista[1::2])"
   ]
  },
  {
   "cell_type": "markdown",
   "metadata": {},
   "source": [
    "# Listas e funções"
   ]
  },
  {
   "cell_type": "code",
   "execution_count": 91,
   "metadata": {},
   "outputs": [
    {
     "name": "stdout",
     "output_type": "stream",
     "text": [
      "Somatório: 330\n",
      "Frequência de 30: 2\n",
      "Maior elemento: 80\n",
      "Menor elemento: 10\n",
      "Juntando duas listas e formando pares de elementos: [(0, 5), (1, 6), (2, 7), (3, 8), (4, 9)]\n",
      "Separando os elementos de uma lista de forma intercalada: [0, 1, 2, 3, 4, 5, 6, 7, 8, 9] \t ([0, 2, 4, 6, 8], [1, 3, 5, 7, 9])\n",
      "Transformando uma lista de strings em uma string CSV: ['Curso', 'de', 'data', 'science', 'em', 'Python'] \t Curso;de;data;science;em;Python\n"
     ]
    }
   ],
   "source": [
    "lista = [50, 70, 80, 40, 10, 30, 20, 30]\n",
    "print('Somatório:', sum(lista))\n",
    "print('Frequência de 30:', lista.count(30))\n",
    "print('Maior elemento:', max(lista))\n",
    "print('Menor elemento:', min(lista))\n",
    "print('Juntando duas listas e formando pares de elementos:', list(zip(range(0, 5), range(5, 10))))\n",
    "\n",
    "lista = list(range(0, 10))\n",
    "intercaladas = lista[::2], lista[1::2]\n",
    "print('Separando os elementos de uma lista de forma intercalada:', lista, '\\t', intercaladas)\n",
    "\n",
    "lista = ['Curso', 'de', 'data', 'science', 'em', 'Python']\n",
    "print('Transformando uma lista de strings em uma string CSV:', lista, '\\t', ';'.join(lista))"
   ]
  },
  {
   "cell_type": "markdown",
   "metadata": {},
   "source": [
    "# Aplicando funções a elementos da lista"
   ]
  },
  {
   "cell_type": "code",
   "execution_count": 106,
   "metadata": {},
   "outputs": [
    {
     "name": "stdout",
     "output_type": "stream",
     "text": [
      "Lista: [0, 1, 2, 3, 4, 5, 6, 7, 8, 9, 10]\n",
      "Dupli: [0, 1, 2, 3, 4, 5, 6, 7, 8, 9, 10, 0, 1, 2, 3, 4, 5, 6, 7, 8, 9, 10]\n",
      "Lista de nº de pares dobrado: [0, 4, 8, 12, 16, 20] ou [0, 4, 8, 12, 16, 20]\n",
      "Gerando uma lista de LISTAS: [['Um', 'UM', 2], ['Dois', 'DOIS', 4], ['Três', 'TRÊS', 4]]\n",
      "Gerando uma lista de TUPLAS: [['Um', 'UM', 2], ['Dois', 'DOIS', 4], ['Três', 'TRÊS', 4]]\n",
      "Função: [0, -1, -2, -3, -4, -5, -6, -7, -8, -9, -10]\n",
      "Lambda: [0, 3, 6, 9, 12, 15, 18, 21, 24, 27, 30]\n",
      ">> Filtrando os elementos de uma lista, de acordo com um critério\n",
      "Sem filtro: [-5, -4, -3, -2, -1, 0, 1, 2, 3, 4]\n",
      "Com filtro: [0, 1, 2, 3, 4]\n"
     ]
    }
   ],
   "source": [
    "def negativo (val):\n",
    "    return val * -1\n",
    "\n",
    "lista = list(range(11))\n",
    "print('Lista:', lista)\n",
    "print('Dupli:', lista * 2)\n",
    "print('Lista de nº de pares dobrado:', [x * 2 for x in lista if x % 2 == 0], 'ou', [x * 2 for x in lista[::2]])\n",
    "print('Gerando uma lista de LISTAS:', [[s.capitalize(), s.upper(), len(s)] for s in ['um', 'dois', 'três']])\n",
    "print('Gerando uma lista de TUPLAS:', [[s.capitalize(), s.upper(), len(s)] for s in ('um', 'dois', 'três')])\n",
    "print('Função:', list(map(negativo, lista)))\n",
    "print('Lambda:', list(map(lambda x: x * 3, lista)))\n",
    "\n",
    "print('>> Filtrando os elementos de uma lista, de acordo com um critério')\n",
    "def criterio (x):\n",
    "    return x >= 0\n",
    "lista = list(range(-5, 5))\n",
    "print('Sem filtro:', lista)\n",
    "print('Com filtro:', list(filter(criterio, lista)))"
   ]
  },
  {
   "cell_type": "markdown",
   "metadata": {},
   "source": [
    "# Exercício 9"
   ]
  },
  {
   "cell_type": "code",
   "execution_count": 32,
   "metadata": {},
   "outputs": [
    {
     "name": "stdout",
     "output_type": "stream",
     "text": [
      "33\n",
      "1\n",
      "79\n",
      "1\n"
     ]
    }
   ],
   "source": [
    "matrix = [[10, 7, 33], [1, 10, 3], [4, 5, 6]]\n",
    "\n",
    "def m_2_l (m=[]):\n",
    "    lista = []\n",
    "    for line in m:\n",
    "        lista += line\n",
    "    return lista\n",
    "\n",
    "def maior (m=[]):\n",
    "    return max(m_2_l(m))\n",
    "\n",
    "def menor (m=[]):\n",
    "    return min(m_2_l(m))\n",
    "\n",
    "def soma (m=[]):\n",
    "    return sum(m_2_l(m))\n",
    "\n",
    "def freq (m=[], x=0):\n",
    "    return m_2_l(m).count(x)\n",
    "\n",
    "print(maior(matrix))\n",
    "print(menor(matrix))\n",
    "print(soma(matrix))\n",
    "print(freq(matrix, 5))"
   ]
  },
  {
   "cell_type": "markdown",
   "metadata": {},
   "source": [
    "# Exercício 10"
   ]
  },
  {
   "cell_type": "code",
   "execution_count": null,
   "metadata": {},
   "outputs": [],
   "source": []
  }
 ],
 "metadata": {
  "kernelspec": {
   "display_name": ".venv",
   "language": "python",
   "name": "python3"
  },
  "language_info": {
   "codemirror_mode": {
    "name": "ipython",
    "version": 3
   },
   "file_extension": ".py",
   "mimetype": "text/x-python",
   "name": "python",
   "nbconvert_exporter": "python",
   "pygments_lexer": "ipython3",
   "version": "3.11.5"
  },
  "orig_nbformat": 4
 },
 "nbformat": 4,
 "nbformat_minor": 2
}
